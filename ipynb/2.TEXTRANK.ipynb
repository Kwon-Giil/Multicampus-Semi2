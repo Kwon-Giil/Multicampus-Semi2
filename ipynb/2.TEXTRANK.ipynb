{
 "cells": [
  {
   "cell_type": "code",
   "execution_count": 114,
   "metadata": {},
   "outputs": [],
   "source": [
    "import numpy as np\n",
    "import pandas as pd\n",
    "import nltk\n",
    "import re\n",
    "import math\n",
    "from eunjeon import Mecab\n",
    "import networkx as nx\n",
    "from tqdm import tqdm"
   ]
  },
  {
   "cell_type": "code",
   "execution_count": 115,
   "metadata": {},
   "outputs": [
    {
     "data": {
      "text/html": [
       "<div>\n",
       "<style scoped>\n",
       "    .dataframe tbody tr th:only-of-type {\n",
       "        vertical-align: middle;\n",
       "    }\n",
       "\n",
       "    .dataframe tbody tr th {\n",
       "        vertical-align: top;\n",
       "    }\n",
       "\n",
       "    .dataframe thead th {\n",
       "        text-align: right;\n",
       "    }\n",
       "</style>\n",
       "<table border=\"1\" class=\"dataframe\">\n",
       "  <thead>\n",
       "    <tr style=\"text-align: right;\">\n",
       "      <th></th>\n",
       "      <th>본문</th>\n",
       "      <th>답변</th>\n",
       "    </tr>\n",
       "  </thead>\n",
       "  <tbody>\n",
       "    <tr>\n",
       "      <th>0</th>\n",
       "      <td>정말 어려운 상황에서 너무나도 힘들어서 질문을 드립니다. 부디 자세한 설명해주시면 ...</td>\n",
       "      <td>차량의 경우 현재 점유자인 아버지를 피고로 하여 차량 인도 청구소송 및 차량 점유 ...</td>\n",
       "    </tr>\n",
       "    <tr>\n",
       "      <th>1</th>\n",
       "      <td>1년 전에 대포 통장이로 인해 피해를 봐서 재판 결과가 불기소 유통 지을 받았거든요...</td>\n",
       "      <td>소장 내용에 대한 검토가 필요하므로 소장을 지참하고 상담을 받으시기 바랍니다</td>\n",
       "    </tr>\n",
       "    <tr>\n",
       "      <th>2</th>\n",
       "      <td>연고도 다르고 일면식도 없는 5살위의 형을 일을 통해 알게 됐습니다.제가 주식투자를...</td>\n",
       "      <td>별도의 구체적 상담이 필요하나 실제 채무가 없음에도 공증을 가지고 채권자가 강제집행...</td>\n",
       "    </tr>\n",
       "    <tr>\n",
       "      <th>3</th>\n",
       "      <td>1 21615 이행권고결정판결 2 211523 채권압류 및 추심명령 인용 21153...</td>\n",
       "      <td>별도의 구체적 상담이 필요하나 이행 권고 결정은 기판력의 제한이 없으므로 소멸시효 ...</td>\n",
       "    </tr>\n",
       "    <tr>\n",
       "      <th>4</th>\n",
       "      <td>4천만 원 정도의 피해가 있고 고소를 했는데 인지사건으로 넘어가서 검찰에서 수사 중...</td>\n",
       "      <td>가해자가 위 사건으로 구속 기소되었다면 가해자를 피고로 하여 민사소송 및 강제집행으...</td>\n",
       "    </tr>\n",
       "    <tr>\n",
       "      <th>...</th>\n",
       "      <td>...</td>\n",
       "      <td>...</td>\n",
       "    </tr>\n",
       "    <tr>\n",
       "      <th>18266</th>\n",
       "      <td>제가 작년 8월쯤 승소 판결 받은 후에 압류 절차를 진행을 해야 하는데 혼자 스스로...</td>\n",
       "      <td>통장 압류 방법에 관하여 질문하셨습니다. 민사소송에서 승소를 하여 그 판결이 확정된...</td>\n",
       "    </tr>\n",
       "    <tr>\n",
       "      <th>18267</th>\n",
       "      <td>민사재판 패소 후 현재 등본은 부모님댁으로 되어있습니다. 나와서 따로 혼자 사는데 ...</td>\n",
       "      <td>민사소송 패소 후 부모님 집에 압류가 들어올 수 있는지와 관련하여 질문하셨습니다.민...</td>\n",
       "    </tr>\n",
       "    <tr>\n",
       "      <th>18268</th>\n",
       "      <td>추완항소이고 제가 피고인이예요 공시송달로 소송을 모르고 있다가 처음부터 끝까지 공시...</td>\n",
       "      <td>민사소송 항소이유를 잘못 기재한 것과 관련하여 질문하셨습니다. 부동산 임대차에 있어...</td>\n",
       "    </tr>\n",
       "    <tr>\n",
       "      <th>18269</th>\n",
       "      <td>작년 여름 사기 피해 금액 약 35만 원을 당하여 형사고소를 하였고 1월경 형사 고...</td>\n",
       "      <td>민사소송 소장에 소송비용 청구를 빠드린 경우와 관련하여 질 무하셨습니다. 민사소송에...</td>\n",
       "    </tr>\n",
       "    <tr>\n",
       "      <th>18270</th>\n",
       "      <td>경찰서에 신고해서 상대방이 벌금을 낸 거까지는 아는데 제 위자료나 병원비 같은 거 ...</td>\n",
       "      <td>폭행 당한 후 손해배상 등에 관하여 질문하셨습니다. 1 경찰서에 신고해서 가해자가 ...</td>\n",
       "    </tr>\n",
       "  </tbody>\n",
       "</table>\n",
       "<p>18271 rows × 2 columns</p>\n",
       "</div>"
      ],
      "text/plain": [
       "                                                      본문  \\\n",
       "0      정말 어려운 상황에서 너무나도 힘들어서 질문을 드립니다. 부디 자세한 설명해주시면 ...   \n",
       "1      1년 전에 대포 통장이로 인해 피해를 봐서 재판 결과가 불기소 유통 지을 받았거든요...   \n",
       "2      연고도 다르고 일면식도 없는 5살위의 형을 일을 통해 알게 됐습니다.제가 주식투자를...   \n",
       "3      1 21615 이행권고결정판결 2 211523 채권압류 및 추심명령 인용 21153...   \n",
       "4      4천만 원 정도의 피해가 있고 고소를 했는데 인지사건으로 넘어가서 검찰에서 수사 중...   \n",
       "...                                                  ...   \n",
       "18266  제가 작년 8월쯤 승소 판결 받은 후에 압류 절차를 진행을 해야 하는데 혼자 스스로...   \n",
       "18267  민사재판 패소 후 현재 등본은 부모님댁으로 되어있습니다. 나와서 따로 혼자 사는데 ...   \n",
       "18268  추완항소이고 제가 피고인이예요 공시송달로 소송을 모르고 있다가 처음부터 끝까지 공시...   \n",
       "18269  작년 여름 사기 피해 금액 약 35만 원을 당하여 형사고소를 하였고 1월경 형사 고...   \n",
       "18270  경찰서에 신고해서 상대방이 벌금을 낸 거까지는 아는데 제 위자료나 병원비 같은 거 ...   \n",
       "\n",
       "                                                      답변  \n",
       "0      차량의 경우 현재 점유자인 아버지를 피고로 하여 차량 인도 청구소송 및 차량 점유 ...  \n",
       "1             소장 내용에 대한 검토가 필요하므로 소장을 지참하고 상담을 받으시기 바랍니다  \n",
       "2      별도의 구체적 상담이 필요하나 실제 채무가 없음에도 공증을 가지고 채권자가 강제집행...  \n",
       "3      별도의 구체적 상담이 필요하나 이행 권고 결정은 기판력의 제한이 없으므로 소멸시효 ...  \n",
       "4      가해자가 위 사건으로 구속 기소되었다면 가해자를 피고로 하여 민사소송 및 강제집행으...  \n",
       "...                                                  ...  \n",
       "18266  통장 압류 방법에 관하여 질문하셨습니다. 민사소송에서 승소를 하여 그 판결이 확정된...  \n",
       "18267  민사소송 패소 후 부모님 집에 압류가 들어올 수 있는지와 관련하여 질문하셨습니다.민...  \n",
       "18268  민사소송 항소이유를 잘못 기재한 것과 관련하여 질문하셨습니다. 부동산 임대차에 있어...  \n",
       "18269  민사소송 소장에 소송비용 청구를 빠드린 경우와 관련하여 질 무하셨습니다. 민사소송에...  \n",
       "18270  폭행 당한 후 손해배상 등에 관하여 질문하셨습니다. 1 경찰서에 신고해서 가해자가 ...  \n",
       "\n",
       "[18271 rows x 2 columns]"
      ]
     },
     "execution_count": 115,
     "metadata": {},
     "output_type": "execute_result"
    }
   ],
   "source": [
    "data = pd.read_csv('prep_data_dotsplits.csv')\n",
    "data"
   ]
  },
  {
   "cell_type": "code",
   "execution_count": 116,
   "metadata": {},
   "outputs": [],
   "source": [
    "data.dropna(inplace=True)"
   ]
  },
  {
   "cell_type": "code",
   "execution_count": 117,
   "metadata": {},
   "outputs": [],
   "source": [
    "def del_num(text):\n",
    "    text = re.sub('[0-9]','',text)\n",
    "    text = text.replace('ㅜㅠ', '')\n",
    "    return text"
   ]
  },
  {
   "cell_type": "code",
   "execution_count": 118,
   "metadata": {},
   "outputs": [],
   "source": [
    "data['본문'] = data['본문'].apply(del_num)\n",
    "data['답변'] = data['답변'].apply(del_num)\n",
    "data.rename(columns = {'본문':'Question', '답변':'Answer'}, inplace=True)"
   ]
  },
  {
   "cell_type": "code",
   "execution_count": 119,
   "metadata": {},
   "outputs": [],
   "source": [
    "tagger = Mecab()\n",
    "def similarity(a, b):\n",
    "    try:\n",
    "        n = len(a.intersection(b))\n",
    "        return n / float(len(a) + len(b) - n)\n",
    "    except:\n",
    "        return 0"
   ]
  },
  {
   "cell_type": "code",
   "execution_count": 120,
   "metadata": {},
   "outputs": [],
   "source": [
    "new_lines = []\n",
    "dictCount={}\n",
    "tag_sen = []\n",
    "dictBicount={}\n",
    "\n",
    "ratio = 0.666\n",
    "max_sen = 5\n",
    "threshold = 0.005\n",
    "\n",
    "def build_dictCount(sentences):\n",
    "    for sent in sentences.split('.'):\n",
    "        temp_lst = []\n",
    "        temp = tagger.pos(sent)\n",
    "        for i in temp:\n",
    "            if i[1] in ('NNG', 'NNP', 'VV', 'VA'):\n",
    "                temp_lst.append(i)\n",
    "        tag_sen.append(set(temp_lst))\n",
    "        dictCount[len(dictCount)] = sent\n",
    "    return dictCount, tag_sen\n",
    "\n",
    "def build_dictBiCount(dictCount, tag_sen):\n",
    "    for i in range(len(dictCount)):\n",
    "        for j in range(i+1, len(dictCount)):\n",
    "            s = similarity(tag_sen[i], tag_sen[j])\n",
    "            if s < threshold:\n",
    "                continue\n",
    "            dictBicount[i, j] = s\n",
    "    return dictBicount\n",
    "\n",
    "def build(dictCount, dictBicount):\n",
    "    graph = nx.Graph()\n",
    "    graph.add_nodes_from(dictCount.keys())\n",
    "    for (a, b), n in dictBicount.items():\n",
    "        graph.add_edge(a, b, weight=n*1.0 + (1-1.0))\n",
    "    return graph\n",
    "\n",
    "def pagerank(graph):\n",
    "    rank = nx.pagerank(graph, weight='weight')\n",
    "    return rank\n",
    "\n",
    "\n",
    "def new_line(rank, dictCount):\n",
    "    ks = sorted(rank, key=rank.get, reverse=True)\n",
    "    score = int(len(rank)*ratio)\n",
    "\n",
    "    if score < max_sen :\n",
    "        score = int(len(rank)*ratio)\n",
    "    elif score >= max_sen:\n",
    "        score = max_sen\n",
    "    else:\n",
    "        pass\n",
    "\n",
    "    if score == 0:\n",
    "        score = len(rank)\n",
    "\n",
    "    ks = ks[:score]\n",
    "    new_text = '.'.join(map(lambda k: dictCount[k], sorted(ks)))\n",
    "    return new_text "
   ]
  },
  {
   "cell_type": "code",
   "execution_count": 121,
   "metadata": {},
   "outputs": [
    {
     "name": "stderr",
     "output_type": "stream",
     "text": [
      "18165it [00:30, 586.35it/s]\n"
     ]
    }
   ],
   "source": [
    "new_lines = []\n",
    "\n",
    "for idx, text in tqdm(enumerate(data['Question'])):\n",
    "    dictCount={}\n",
    "    tag_sen = []\n",
    "    dictBicount={}\n",
    "    try:\n",
    "        dictCount, tag_sen = build_dictCount(text)\n",
    "        dictBicount = build_dictBiCount(dictCount, tag_sen)\n",
    "        graph = build(dictCount, dictBicount)\n",
    "        rank = pagerank(graph)\n",
    "        new_text = new_line(rank, dictCount)\n",
    "        new_lines.append(new_text)\n",
    "    except:\n",
    "        print(idx)\n",
    "        break"
   ]
  },
  {
   "cell_type": "code",
   "execution_count": 122,
   "metadata": {},
   "outputs": [],
   "source": [
    "data['Question'] = new_lines"
   ]
  },
  {
   "cell_type": "code",
   "execution_count": 123,
   "metadata": {},
   "outputs": [
    {
     "name": "stderr",
     "output_type": "stream",
     "text": [
      "18165it [00:38, 466.83it/s] \n"
     ]
    }
   ],
   "source": [
    "new_lines = []\n",
    "\n",
    "for idx, text in tqdm(enumerate(data['Answer'])):\n",
    "    dictCount={}\n",
    "    tag_sen = []\n",
    "    dictBicount={}\n",
    "    try:\n",
    "        dictCount, tag_sen = build_dictCount(text)\n",
    "        dictBicount = build_dictBiCount(dictCount, tag_sen)\n",
    "        graph = build(dictCount, dictBicount)\n",
    "        rank = pagerank(graph)\n",
    "        new_text = new_line(rank, dictCount)\n",
    "        new_lines.append(new_text)\n",
    "    except:\n",
    "        print(idx)\n",
    "        break"
   ]
  },
  {
   "cell_type": "code",
   "execution_count": 124,
   "metadata": {},
   "outputs": [],
   "source": [
    "data['Answer'] = new_lines"
   ]
  },
  {
   "cell_type": "code",
   "execution_count": 125,
   "metadata": {},
   "outputs": [
    {
     "data": {
      "text/html": [
       "<div>\n",
       "<style scoped>\n",
       "    .dataframe tbody tr th:only-of-type {\n",
       "        vertical-align: middle;\n",
       "    }\n",
       "\n",
       "    .dataframe tbody tr th {\n",
       "        vertical-align: top;\n",
       "    }\n",
       "\n",
       "    .dataframe thead th {\n",
       "        text-align: right;\n",
       "    }\n",
       "</style>\n",
       "<table border=\"1\" class=\"dataframe\">\n",
       "  <thead>\n",
       "    <tr style=\"text-align: right;\">\n",
       "      <th></th>\n",
       "      <th>Question</th>\n",
       "      <th>Answer</th>\n",
       "    </tr>\n",
       "  </thead>\n",
       "  <tbody>\n",
       "    <tr>\n",
       "      <th>0</th>\n",
       "      <td>정말 어려운 상황에서 너무나도 힘들어서 질문을 드립니다. 아버지가 제 명의로 사업자...</td>\n",
       "      <td>차량의 경우 현재 점유자인 아버지를 피고로 하여 차량 인도 청구소송 및 차량 점유 ...</td>\n",
       "    </tr>\n",
       "    <tr>\n",
       "      <th>1</th>\n",
       "      <td>년 전에 대포 통장이로 인해 피해를 봐서 재판 결과가 불기소 유통 지을 받았거든요....</td>\n",
       "      <td>소장 내용에 대한 검토가 필요하므로 소장을 지참하고 상담을 받으시기 바랍니다</td>\n",
       "    </tr>\n",
       "    <tr>\n",
       "      <th>2</th>\n",
       "      <td>제 계좌로 입금을 했다던가 그런부분 전혀없이 그 형의 계좌로 그 형의 공인인증서를 ...</td>\n",
       "      <td>별도의 구체적 상담이 필요하나 실제 채무가 없음에도 공증을 가지고 채권자가 강제집행...</td>\n",
       "    </tr>\n",
       "    <tr>\n",
       "      <th>3</th>\n",
       "      <td>채권시효년 소멸로 본다면 어떤 대응이 가능할지 여쭤봅니다 지인에게 연대보증 해줬는데...</td>\n",
       "      <td>별도의 구체적 상담이 필요하나 이행 권고 결정은 기판력의 제한이 없으므로 소멸시효 ...</td>\n",
       "    </tr>\n",
       "    <tr>\n",
       "      <th>4</th>\n",
       "      <td>그 와중에 피의자와 어떻게 연락이 닿게 되어서 갚겠다는 의사를 보였고 정말 적은 ...</td>\n",
       "      <td>가해자가 위 사건으로 구속 기소되었다면 가해자를 피고로 하여 민사소송 및 강제집행으...</td>\n",
       "    </tr>\n",
       "    <tr>\n",
       "      <th>...</th>\n",
       "      <td>...</td>\n",
       "      <td>...</td>\n",
       "    </tr>\n",
       "    <tr>\n",
       "      <th>18266</th>\n",
       "      <td>제가 작년 월쯤 승소 판결 받은 후에 압류 절차를 진행을 해야 하는데 혼자 스스로 ...</td>\n",
       "      <td>여쭤보신 것은 통장 압류 절차인 것으로 보입니다 통장 압류의 법률적 용어는 예금채...</td>\n",
       "    </tr>\n",
       "    <tr>\n",
       "      <th>18267</th>\n",
       "      <td>민사재판 패소 후 현재 등본은 부모님댁으로 되어있습니다</td>\n",
       "      <td>민사소송 패소 후 부모님 집에 압류가 들어올 수 있는지와 관련하여 질문하셨습니다.민...</td>\n",
       "    </tr>\n",
       "    <tr>\n",
       "      <th>18268</th>\n",
       "      <td>이에 원고인에게 원룸계약서 제출을 요구합니다 라고 썼거든요.거기보니 원고측에서 이미...</td>\n",
       "      <td>따라서 각 월 차임 채권은  년에 발생한 경우 년이 경과한  년 사이에 이미 시효...</td>\n",
       "    </tr>\n",
       "    <tr>\n",
       "      <th>18269</th>\n",
       "      <td>오늘 피고 측에서 답변서를 받고 변론 기일이 정해졌는데 이제 보니 제가 작성한 소...</td>\n",
       "      <td>민사소송 소장에 소송비용 청구를 빠드린 경우와 관련하여 질 무하셨습니다. 민사소송에...</td>\n",
       "    </tr>\n",
       "    <tr>\n",
       "      <th>18270</th>\n",
       "      <td>경찰서에 신고해서 상대방이 벌금을 낸 거까지는 아는데 제 위자료나 병원비 같은 거 ...</td>\n",
       "      <td>그리고 해당 관할 검찰청 가셔서 본인이 피해자인데 가해자에 대한 폭행 사건 번호를...</td>\n",
       "    </tr>\n",
       "  </tbody>\n",
       "</table>\n",
       "<p>18165 rows × 2 columns</p>\n",
       "</div>"
      ],
      "text/plain": [
       "                                                Question  \\\n",
       "0      정말 어려운 상황에서 너무나도 힘들어서 질문을 드립니다. 아버지가 제 명의로 사업자...   \n",
       "1      년 전에 대포 통장이로 인해 피해를 봐서 재판 결과가 불기소 유통 지을 받았거든요....   \n",
       "2      제 계좌로 입금을 했다던가 그런부분 전혀없이 그 형의 계좌로 그 형의 공인인증서를 ...   \n",
       "3      채권시효년 소멸로 본다면 어떤 대응이 가능할지 여쭤봅니다 지인에게 연대보증 해줬는데...   \n",
       "4       그 와중에 피의자와 어떻게 연락이 닿게 되어서 갚겠다는 의사를 보였고 정말 적은 ...   \n",
       "...                                                  ...   \n",
       "18266  제가 작년 월쯤 승소 판결 받은 후에 압류 절차를 진행을 해야 하는데 혼자 스스로 ...   \n",
       "18267                     민사재판 패소 후 현재 등본은 부모님댁으로 되어있습니다   \n",
       "18268  이에 원고인에게 원룸계약서 제출을 요구합니다 라고 썼거든요.거기보니 원고측에서 이미...   \n",
       "18269   오늘 피고 측에서 답변서를 받고 변론 기일이 정해졌는데 이제 보니 제가 작성한 소...   \n",
       "18270  경찰서에 신고해서 상대방이 벌금을 낸 거까지는 아는데 제 위자료나 병원비 같은 거 ...   \n",
       "\n",
       "                                                  Answer  \n",
       "0      차량의 경우 현재 점유자인 아버지를 피고로 하여 차량 인도 청구소송 및 차량 점유 ...  \n",
       "1             소장 내용에 대한 검토가 필요하므로 소장을 지참하고 상담을 받으시기 바랍니다  \n",
       "2      별도의 구체적 상담이 필요하나 실제 채무가 없음에도 공증을 가지고 채권자가 강제집행...  \n",
       "3      별도의 구체적 상담이 필요하나 이행 권고 결정은 기판력의 제한이 없으므로 소멸시효 ...  \n",
       "4      가해자가 위 사건으로 구속 기소되었다면 가해자를 피고로 하여 민사소송 및 강제집행으...  \n",
       "...                                                  ...  \n",
       "18266   여쭤보신 것은 통장 압류 절차인 것으로 보입니다 통장 압류의 법률적 용어는 예금채...  \n",
       "18267  민사소송 패소 후 부모님 집에 압류가 들어올 수 있는지와 관련하여 질문하셨습니다.민...  \n",
       "18268   따라서 각 월 차임 채권은  년에 발생한 경우 년이 경과한  년 사이에 이미 시효...  \n",
       "18269  민사소송 소장에 소송비용 청구를 빠드린 경우와 관련하여 질 무하셨습니다. 민사소송에...  \n",
       "18270   그리고 해당 관할 검찰청 가셔서 본인이 피해자인데 가해자에 대한 폭행 사건 번호를...  \n",
       "\n",
       "[18165 rows x 2 columns]"
      ]
     },
     "execution_count": 125,
     "metadata": {},
     "output_type": "execute_result"
    }
   ],
   "source": [
    "data"
   ]
  },
  {
   "cell_type": "code",
   "execution_count": 132,
   "metadata": {},
   "outputs": [],
   "source": [
    "data.to_csv('Textranked.csv', index=False, encoding='utf-8')"
   ]
  },
  {
   "cell_type": "code",
   "execution_count": 127,
   "metadata": {},
   "outputs": [],
   "source": [
    "pre_data = pd.read_csv('prep_data_dotsplits.csv')"
   ]
  },
  {
   "cell_type": "code",
   "execution_count": 128,
   "metadata": {},
   "outputs": [
    {
     "data": {
      "text/plain": [
       "'사회 초년생 때 친구에게 만 원 돈을 빌려줬다가 사기당하고 못 받고 있다가 소송해서 이겨서 거의 다 받은 것 같은데 쪼금 남겨 놓고 준다고 하더니 연락을 끊었어요'"
      ]
     },
     "execution_count": 128,
     "metadata": {},
     "output_type": "execute_result"
    }
   ],
   "source": [
    "data['Question'][1000]"
   ]
  },
  {
   "cell_type": "code",
   "execution_count": 129,
   "metadata": {},
   "outputs": [
    {
     "data": {
      "text/plain": [
       "'민사집행법 관련 조문 제조재산명시신청 ①금전의 지급을 목적으로 하는 집행권원에 기초하여 강제집행을 개시할 수 있는 채권자는 채무자의 보통재판적이 있는 곳의 법원에 채무자의 재산명시를 요구하는 신청을 할 수 있다.에게 보내야 한다 ③법원은 채무불이행자명부의 부본을 대법원규칙이 정하는 바에 따라 일정한 금융기관의 장이나 금융기관 관련 단체의 장에게 보내어 채무자에 대한 신용정보로 활용하게 할 수 있다 ④채무불이행자명부나 그 부본은 누구든지 보거나 복사할 것을 신청할 수 있다 ⑤채무불이행자명부는 인쇄물 등으로 공표되어서는 아니 된다  답변 채무자의 재산월급 예금 등을 찾아내서 그에 대해서 강제집행을 하는 방법이 있습니다.이런 경우 위의 법조에 적은 재산명시신청을 할 수 있습니다.그래도 재산을 발견하지 못하는 경우에는 채무불이행자명부 등재 신청을 하여 정신적 압박을 주는 방법이 있을 수 있습니다.재산명시신청 채무불이행자명부등재신청'"
      ]
     },
     "execution_count": 129,
     "metadata": {},
     "output_type": "execute_result"
    }
   ],
   "source": [
    "data['Answer'][1000]"
   ]
  },
  {
   "cell_type": "code",
   "execution_count": 130,
   "metadata": {},
   "outputs": [
    {
     "data": {
      "text/plain": [
       "'사회 초년생 때 친구에게 3만 원 돈을 빌려줬다가 사기당하고 못 받고 있다가 소송해서 이겨서 거의 다 받은 것 같은데 쪼금 남겨 놓고 준다고 하더니 연락을 끊었어요. 어떻게 해야 돌려받을 수 있을까요'"
      ]
     },
     "execution_count": 130,
     "metadata": {},
     "output_type": "execute_result"
    }
   ],
   "source": [
    "pre_data['본문'][1000]"
   ]
  },
  {
   "cell_type": "code",
   "execution_count": 131,
   "metadata": {},
   "outputs": [
    {
     "data": {
      "text/plain": [
       "'민사집행법 관련 조문 제61조재산명시신청 ①금전의 지급을 목적으로 하는 집행권원에 기초하여 강제집행을 개시할 수 있는 채권자는 채무자의 보통재판적이 있는 곳의 법원에 채무자의 재산명시를 요구하는 신청을 할 수 있다.다만 민사소송법 제213조에 따른 가집행의 선고가 붙은 판결 또는 같은 조의 준용에 따른 가집행의 선고가 붙어 집행력을 가지는 집행권원의 경우에는 그러하지 아니하다 ② 제1항의 신청에는 집행력 있는 정본과 강제집행을 개시하는데 필요한 문서를 붙여야 한다 제62조재산명시신청에 대한 재판 ①재산명시신청에 정당한 이유가 있는 때에는 법원은 채무자에게 재산상태를 명시한 재산목록을 제출하도록 명할 수 있다 ②재산명시신청에 정당한 이유가 없거나 채무자의 재산을 쉽게 찾을 수 있다고 인정한 때에는 법원은 결정으로 이를 기각하여야 한다 ③ 제1항 및 제2항의 재판은 채무자를 심문하지 아니하고 한다 ④ 제1항의 결정은 신청한 채권자 및 채무자에게 송달하여야 하고 채무자에 대한 송달에서는 결정에 따르지 아니할 경우 제68조에 규정된 제재를 받을 수 있음을 함께 고지하여야 한다 ⑤ 제4항의 규정에 따라 채무자에게 하는 송달은 민사소송법 제187조 및 제194조에 의한 방법으로는 할 수 없다 ⑥ 제1항의 결정이 채무자에게 송달되지 아니한 때에는 법원은 채권자에게 상당한 기간을 정하여 그 기간 이내에 채무자의 주소를 보정하도록 명하여야 한다 ⑦채권자가 제6항의 명령을 받고도 이를 이행하지 아니한 때에는 법원은 제1항의 결정을 취소하고 재산명시신청을 각하하여야 한다 ⑧ 제2항 및 제7항의 결정에 대하여는 즉시항고를 할 수 있다 ⑨채무자는 제1항의 결정을 송달받은 뒤 송달장소를 바꾼 때에는 그 취지를 법원에 바로 신고하여야 하며 그러한 신고를 하지 아니한 경우에는 민사소송법 제185조제2항 및 제189조의 규정을 준용한다 제64조재산명시기일의 실시 ①재산명시명령에 대하여 채무자의 이의신청이 없거나 이를 기각한 때에는 법원은 재산명시를 위한 기일을 정하여 채무자에게 출석하도록 요구하여야 한다 이 기일은 채권자에게도 통지하여야 한다 ②채무자는 제1항의 기일에 강제집행의 대상이 되는 재산과 다음 각호의 사항을 명시한 재산목록을 제출하여야 한다 1 재산명시명령이 송달되기 전 1년 이내에 채무자가 한 부동산의 유상양도有償讓渡 2 재산명시명령이 송달되기 전 1년 이내에 채무자가 배우자 직계혈족 및 4촌 이내의 방계혈족과 그 배우자 배우자의 직계혈족과 형제자매에게 한 부동산 외의 재산의 유상양도 3 재산명시명령이 송달되기 전 2년 이내에 채무자가 한 재산상 무상처분無償處分 다만 의례적인 선물은 제외한다 ③재산목록에 적을 사항과 범위는 대법원규칙으로 정한다 ④제1항의 기일에 출석한 채무자가 3월 이내에 변제할 수 있음을 소명한 때에는 법원은 그 기일을 3월의 범위내에서 연기할 수 있으며 채무자가 새 기일에 채무액의 3분의 2 이상을 변제하였음을 증명하는 서류를 제출한 때에는 다시 1월의 범위 내에서 연기할 수 있다 제65조선서 ①채무자는 재산명시기일에 재산목록이 진실하다는 것을 선서하여야한다 ②제1항의 선서에 관하여는 민사소송법 제32조 및 제321조의 규정을 준용한다 이경우 선서서宣誓書에는 다음과 같이 적어야 한다 양심에 따라 사실대로 재산목록을 작성하여 제출하였으며 만일 숨긴 것이나 거짓 작성한 것이 있으면 처벌을 받기로 맹세합니다.제68조채무자의 감치 및 벌칙 ①채무자가 정당한 사유 없이 다음 각호 가운데 어느 하나에 해당하는 행위를 한 경우에는 법원은 결정으로 2일 이내의 감치監置에 처한다 1 명시기일 불출석 2 재산목록 제출 거부 3 선서 거부 ②채무자가 법인 또는 민사소송법 제52조의 사단이나 재단인 때에는 그 대표자 또는 관리인을 감치에 처한다 ③법원은 감치재판기일에 채무자를 소환하여 제1항 각호의 위반행위에 대하여 정당한 사유가 있는지 여부를 심리하여야 한다 ④제1항의 결정에 대하여는 즉시항고를 할 수 있다 ⑤채무자가 감치의 집행 중에 재산명시명령을 이행하겠다고 신청한 때에는 법원은 바로 명시기일을 열어야 한다 ⑥채무자가 제5항의 명시기일에 출석하여 재산목록을 내고 선서하거나 신청 채권자에 대한 채무를 변제하고 이를 증명하는 서면을 낸 때에는 법원은 바로 감치결정을 취소하고 그 채무자를 석방하도록 명하여야 한다 ⑦ 제5항의 명시기일은 신청채권자에게 통지하지 아니하고도 실시할 수 있다 이 경우 제6항의 사실을 채권자에게 통지하여야 한다 ⑧ 제1항 내지 제7항의 규정에 따른 재판절차 및 그 집행 그 밖에 필요한 사항은 대법원규칙으로 정한다 ⑨채무자가 거짓의 재산목록을 낸 때에는 3년 이하의 징역 또는 5만 원 이하의 벌금에 처한다 ⑩채무자가 법인 또는 민사소송법 제52조의 사단이나 재단인 때에는 그 대표자 또는 관리인을 제9항의 규정에 따라 처벌하고 채무자는 제9항의 벌금에 처한다 제7조채무불이행자명부 등재 신청 ①채무자가 다음 각호 가운데 어느 하나에 해당하면 채권자는 그 채무자를 채무불이행자명부債務不履行者名簿에 올리도록 신청할 수 있다 1 금전의 지급을 명한 집행권원이 확정된 후 또는 집행권원을 작성한 후 6월 이내에 채무를 이행하지 아니하는 때 다만 제61조 제1항 단서에 규정된 집행권원의 경우를 제외한다 2 제68조제1항 각호의 사유 또는 같은 조제9항의 사유 가운데 어느 하나에 해당하는 때 ② 제1항의 신청을 할 때에는 그 사유를 소명하여야 한다 ③ 제1항의 신청에 대한 재판은 제1항 제1호의 경우에는 채무자의 보통재판적이 있는 곳의 법원이 관할하고 제1항제2호의 경우에는 재산명시절차를 실시한 법원이 관할한다 제71조등재신청에 대한 재판 ① 제7조의 신청에 정당한 이유가 있는 때에는 법원은 채무자를 채무불이행자명부에 올리는 결정을 하여야 한다 ②등재신청에 정당한 이유가 없거나 쉽게 강제집행할 수 있다고 인정할 만한 명백한 사유가 있는 때에는 법원은 결정으로 이를 기각하여야 한다 ③ 제1항 및 제2항의 재판에 대하여는 즉시항고를 할 수 있다 이 경우 민사소송법 제447조의 규정은 준용하지 아니한다 제72조명부의 비치 ①채무불이행자명부는 등재 결정을 한 법원에 비치한다 ②법원은 채무불이행자명부의 부본을 채무자의 주소지채무자가 법인인 경우에는 주된 사무소가 있는 곳 시구가 설치되지 아니한 시를 말한다 이하 같다구읍면의 장도농복합형태의 시의 경우 동지역은 시구의 장 읍면 지역은 읍면의 장으로 한다 이하 같다.에게 보내야 한다 ③법원은 채무불이행자명부의 부본을 대법원규칙이 정하는 바에 따라 일정한 금융기관의 장이나 금융기관 관련 단체의 장에게 보내어 채무자에 대한 신용정보로 활용하게 할 수 있다 ④채무불이행자명부나 그 부본은 누구든지 보거나 복사할 것을 신청할 수 있다 ⑤채무불이행자명부는 인쇄물 등으로 공표되어서는 아니 된다 2 답변 채무자의 재산월급 예금 등을 찾아내서 그에 대해서 강제집행을 하는 방법이 있습니다.만 남의 재산이 무엇이 있는지 어떤 것이 있는지를 알아내는 일이 쉽지 않습니다.이런 경우 위의 법조에 적은 재산명시신청을 할 수 있습니다.그래도 재산을 발견하지 못하는 경우에는 채무불이행자명부 등재 신청을 하여 정신적 압박을 주는 방법이 있을 수 있습니다.참고로 재산명시신청서양식 파일을 첨부합니다.재산명시신청 채무불이행자명부등재신청'"
      ]
     },
     "execution_count": 131,
     "metadata": {},
     "output_type": "execute_result"
    }
   ],
   "source": [
    "pre_data['답변'][1000]"
   ]
  },
  {
   "cell_type": "code",
   "execution_count": null,
   "metadata": {},
   "outputs": [],
   "source": []
  }
 ],
 "metadata": {
  "interpreter": {
   "hash": "68756eb6c044f31c46e3e1f38723aea1f0146198488dd3d60c0e4241eb6f7dd0"
  },
  "kernelspec": {
   "display_name": "Python 3.9.12 ('base')",
   "language": "python",
   "name": "python3"
  },
  "language_info": {
   "codemirror_mode": {
    "name": "ipython",
    "version": 3
   },
   "file_extension": ".py",
   "mimetype": "text/x-python",
   "name": "python",
   "nbconvert_exporter": "python",
   "pygments_lexer": "ipython3",
   "version": "3.9.12"
  },
  "orig_nbformat": 4
 },
 "nbformat": 4,
 "nbformat_minor": 2
}
