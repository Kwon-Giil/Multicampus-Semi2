{
 "cells": [
  {
   "cell_type": "markdown",
   "id": "6f7d569b",
   "metadata": {},
   "source": [
    "## 네이버 지식in"
   ]
  },
  {
   "cell_type": "code",
   "execution_count": 1,
   "id": "ac819faf",
   "metadata": {},
   "outputs": [],
   "source": [
    "import requests\n",
    "from bs4 import BeautifulSoup as bs\n",
    "import pandas as pd\n",
    "from tqdm import tqdm\n",
    "from selenium.webdriver import Chrome\n",
    "from selenium.webdriver.common.keys import Keys\n",
    "from selenium.webdriver.common.by import By\n",
    "import time\n",
    "import numpy as np\n",
    "import pickle\n",
    "import re"
   ]
  },
  {
   "cell_type": "code",
   "execution_count": 2,
   "id": "23e63292",
   "metadata": {
    "scrolled": false
   },
   "outputs": [
    {
     "data": {
      "text/html": [
       "<div>\n",
       "<style scoped>\n",
       "    .dataframe tbody tr th:only-of-type {\n",
       "        vertical-align: middle;\n",
       "    }\n",
       "\n",
       "    .dataframe tbody tr th {\n",
       "        vertical-align: top;\n",
       "    }\n",
       "\n",
       "    .dataframe thead th {\n",
       "        text-align: right;\n",
       "    }\n",
       "</style>\n",
       "<table border=\"1\" class=\"dataframe\">\n",
       "  <thead>\n",
       "    <tr style=\"text-align: right;\">\n",
       "      <th></th>\n",
       "      <th>변호사이름</th>\n",
       "      <th>프로필링크</th>\n",
       "    </tr>\n",
       "  </thead>\n",
       "  <tbody>\n",
       "    <tr>\n",
       "      <th>0</th>\n",
       "      <td>서동민</td>\n",
       "      <td>https://kin.naver.com//profile/index.naver?u=a...</td>\n",
       "    </tr>\n",
       "    <tr>\n",
       "      <th>1</th>\n",
       "      <td>김광웅</td>\n",
       "      <td>https://kin.naver.com//profile/index.naver?u=o...</td>\n",
       "    </tr>\n",
       "    <tr>\n",
       "      <th>2</th>\n",
       "      <td>권광중</td>\n",
       "      <td>https://kin.naver.com//profile/index.naver?u=6...</td>\n",
       "    </tr>\n",
       "    <tr>\n",
       "      <th>3</th>\n",
       "      <td>이재호</td>\n",
       "      <td>https://kin.naver.com//profile/index.naver?u=7...</td>\n",
       "    </tr>\n",
       "    <tr>\n",
       "      <th>4</th>\n",
       "      <td>박준상</td>\n",
       "      <td>https://kin.naver.com//profile/index.naver?u=c...</td>\n",
       "    </tr>\n",
       "    <tr>\n",
       "      <th>...</th>\n",
       "      <td>...</td>\n",
       "      <td>...</td>\n",
       "    </tr>\n",
       "    <tr>\n",
       "      <th>72</th>\n",
       "      <td>박진세</td>\n",
       "      <td>https://kin.naver.com//profile/index.naver?u=d...</td>\n",
       "    </tr>\n",
       "    <tr>\n",
       "      <th>73</th>\n",
       "      <td>권희영</td>\n",
       "      <td>https://kin.naver.com//profile/index.naver?u=e...</td>\n",
       "    </tr>\n",
       "    <tr>\n",
       "      <th>74</th>\n",
       "      <td>안지성</td>\n",
       "      <td>https://kin.naver.com//profile/index.naver?u=i...</td>\n",
       "    </tr>\n",
       "    <tr>\n",
       "      <th>75</th>\n",
       "      <td>김도훈</td>\n",
       "      <td>https://kin.naver.com//profile/index.naver?u=D...</td>\n",
       "    </tr>\n",
       "    <tr>\n",
       "      <th>76</th>\n",
       "      <td>이도형</td>\n",
       "      <td>https://kin.naver.com//profile/index.naver?u=z...</td>\n",
       "    </tr>\n",
       "  </tbody>\n",
       "</table>\n",
       "<p>77 rows × 2 columns</p>\n",
       "</div>"
      ],
      "text/plain": [
       "   변호사이름                                              프로필링크\n",
       "0    서동민  https://kin.naver.com//profile/index.naver?u=a...\n",
       "1    김광웅  https://kin.naver.com//profile/index.naver?u=o...\n",
       "2    권광중  https://kin.naver.com//profile/index.naver?u=6...\n",
       "3    이재호  https://kin.naver.com//profile/index.naver?u=7...\n",
       "4    박준상  https://kin.naver.com//profile/index.naver?u=c...\n",
       "..   ...                                                ...\n",
       "72   박진세  https://kin.naver.com//profile/index.naver?u=d...\n",
       "73   권희영  https://kin.naver.com//profile/index.naver?u=e...\n",
       "74   안지성  https://kin.naver.com//profile/index.naver?u=i...\n",
       "75   김도훈  https://kin.naver.com//profile/index.naver?u=D...\n",
       "76   이도형  https://kin.naver.com//profile/index.naver?u=z...\n",
       "\n",
       "[77 rows x 2 columns]"
      ]
     },
     "execution_count": 2,
     "metadata": {},
     "output_type": "execute_result"
    }
   ],
   "source": [
    "data = pd.read_csv('./data/민사변호사_프로필_링크.csv', encoding='utf-8')\n",
    "data"
   ]
  },
  {
   "cell_type": "code",
   "execution_count": 3,
   "id": "456d36e4",
   "metadata": {},
   "outputs": [],
   "source": [
    "browser = Chrome()"
   ]
  },
  {
   "cell_type": "code",
   "execution_count": 65,
   "id": "20bdb844",
   "metadata": {},
   "outputs": [],
   "source": [
    "detail_btn = browser.find_element(By.CSS_SELECTOR, '#container > div > div > div.container-fluid-content__left > div > div > ul > li:nth-child(1) > ul > li > a')"
   ]
  },
  {
   "cell_type": "code",
   "execution_count": 67,
   "id": "94be6489",
   "metadata": {},
   "outputs": [
    {
     "data": {
      "text/plain": [
       "'https://kin.naver.com/userinfo/expert/answerList.naver?u=az9GaUwMSdvq1LHyaTTg0tL7QX%2FHlOX3TUKF3tAy2xg%3D'"
      ]
     },
     "execution_count": 67,
     "metadata": {},
     "output_type": "execute_result"
    }
   ],
   "source": [
    "ori_url = browser.current_url\n",
    "ori_url"
   ]
  },
  {
   "cell_type": "code",
   "execution_count": 10,
   "id": "c3eb0dbc",
   "metadata": {
    "scrolled": true
   },
   "outputs": [],
   "source": [
    "url_lst = []\n",
    "for url in data['프로필링크'][59:]:\n",
    "    browser.get(url)\n",
    "    time.sleep(1)\n",
    "    detail_btn = browser.find_element(By.CSS_SELECTOR, '#container > div > div > div.container-fluid-content__left > div > div > ul > li:nth-child(1) > ul > li > a')\n",
    "    detail_btn.click()\n",
    "    time.sleep(1)\n",
    "    \n",
    "    ori_url = browser.current_url\n",
    "    qna_num = int(browser.find_element(By.CSS_SELECTOR, '#content > dl > dd:nth-child(2)').text)\n",
    "    page_num = qna_num // 20\n",
    "    \n",
    "    # first page\n",
    "    for n in range(1, 21):\n",
    "        cat = browser.find_element(By.CSS_SELECTOR, f'#au_board_list > tr:nth-child({n}) > td.field > a').text\n",
    "        if cat in ['민사소송','민사집행']:\n",
    "            temp = browser.find_element(By.CSS_SELECTOR, f'#au_board_list > tr:nth-child({n}) > td.title > a').get_attribute('href')\n",
    "            url_lst.append(temp)\n",
    "    \n",
    "    # Other pages\n",
    "    for i in range(2, page_num+1):\n",
    "        next_url = ori_url + '&page=' + str(i)\n",
    "        browser.get(next_url)\n",
    "        time.sleep(1)\n",
    "        try:\n",
    "            for n in range(1, 21):\n",
    "                cat = browser.find_element(By.CSS_SELECTOR, f'#au_board_list > tr:nth-child({n}) > td.field > a').text\n",
    "                if cat in ['민사소송','민사집행']:\n",
    "                    temp = browser.find_element(By.CSS_SELECTOR, f'#au_board_list > tr:nth-child({n}) > td.title > a').get_attribute('href')\n",
    "                    url_lst.append(temp)\n",
    "        except:\n",
    "            browser.refresh()\n",
    "            pass"
   ]
  },
  {
   "cell_type": "code",
   "execution_count": 21,
   "id": "1b6bcbcc",
   "metadata": {
    "scrolled": true
   },
   "outputs": [
    {
     "data": {
      "text/plain": [
       "1651"
      ]
     },
     "execution_count": 21,
     "metadata": {},
     "output_type": "execute_result"
    }
   ],
   "source": [
    "len(url_lst)"
   ]
  },
  {
   "cell_type": "code",
   "execution_count": 12,
   "id": "3dc9409e",
   "metadata": {},
   "outputs": [],
   "source": [
    "import pickle\n",
    "with open('url_lst_3.pickle', 'wb') as f:\n",
    "    pickle.dump(url_lst, f)"
   ]
  },
  {
   "cell_type": "code",
   "execution_count": 20,
   "id": "f8d3518f",
   "metadata": {},
   "outputs": [],
   "source": [
    "with open('url_lst_3.pickle', 'rb') as f:\n",
    "    url_lst = pickle.load(f)"
   ]
  },
  {
   "cell_type": "code",
   "execution_count": 22,
   "id": "ddf024b2",
   "metadata": {},
   "outputs": [
    {
     "name": "stderr",
     "output_type": "stream",
     "text": [
      "100%|██████████████████████████████████████████████████████████████████████████████| 1651/1651 [46:41<00:00,  1.70s/it]\n"
     ]
    }
   ],
   "source": [
    "browser = Chrome()\n",
    "\n",
    "titles = []\n",
    "bodys = []\n",
    "replies = []\n",
    "\n",
    "for url in tqdm(url_lst):\n",
    "    try:\n",
    "        browser.get(url)\n",
    "        time.sleep(1)\n",
    "        \n",
    "        title = browser.find_element(By.CSS_SELECTOR, '#content > div.question-content > div > div.c-heading._questionContentsArea.c-heading--default-old > div.c-heading__title > div > div').text\n",
    "        body = browser.find_element(By.CSS_SELECTOR, '#content > div.question-content > div > div.c-heading._questionContentsArea.c-heading--default-old > div.c-heading__content').text\n",
    "        reply = browser.find_element(By.CSS_SELECTOR, '#answer_1 > div._endContents.c-heading-answer__content > div._endContentsText.c-heading-answer__content-user').text\n",
    "\n",
    "        titles.append(title)\n",
    "        bodys.append(body)\n",
    "        replies.append(reply)\n",
    "    except:\n",
    "        pass"
   ]
  },
  {
   "cell_type": "code",
   "execution_count": 23,
   "id": "820c1622",
   "metadata": {},
   "outputs": [
    {
     "name": "stdout",
     "output_type": "stream",
     "text": [
      "(1405, 3)\n"
     ]
    },
    {
     "data": {
      "text/html": [
       "<div>\n",
       "<style scoped>\n",
       "    .dataframe tbody tr th:only-of-type {\n",
       "        vertical-align: middle;\n",
       "    }\n",
       "\n",
       "    .dataframe tbody tr th {\n",
       "        vertical-align: top;\n",
       "    }\n",
       "\n",
       "    .dataframe thead th {\n",
       "        text-align: right;\n",
       "    }\n",
       "</style>\n",
       "<table border=\"1\" class=\"dataframe\">\n",
       "  <thead>\n",
       "    <tr style=\"text-align: right;\">\n",
       "      <th></th>\n",
       "      <th>제목</th>\n",
       "      <th>본문</th>\n",
       "      <th>답변</th>\n",
       "    </tr>\n",
       "  </thead>\n",
       "  <tbody>\n",
       "    <tr>\n",
       "      <th>0</th>\n",
       "      <td>명도소송 문의드립니다</td>\n",
       "      <td>안녕하세요\\n저희 서울집의 반지하 사람이 쓰레기와 오물 집기 이런것들을 내려가는 계...</td>\n",
       "      <td>안녕하세요. 로시컴-네이버 지식iN 상담변호사 김기윤 입니다.\\n임차인이 임대차 목...</td>\n",
       "    </tr>\n",
       "    <tr>\n",
       "      <th>1</th>\n",
       "      <td>소액거래? 사기</td>\n",
       "      <td>밑에 요약 있어요\\n\\n안녕하세요. 다름이 아니고 소액거래? 사기에 관해서 문제가 ...</td>\n",
       "      <td>안녕하세요. 로시컴-네이버 지식iN 상담변호사 김기윤 입니다.\\n사기죄는 타인을 기...</td>\n",
       "    </tr>\n",
       "    <tr>\n",
       "      <th>2</th>\n",
       "      <td>민사소송하는법</td>\n",
       "      <td>휴대폰 사기로 고소를 진행 했었습니다.\\n2020/2/4 날짜로 법원에서 판결문이 ...</td>\n",
       "      <td>안녕하세요. 로시컴-네이버 지식iN 상담변호사 김기윤 입니다.\\n1.지금까지 상대방...</td>\n",
       "    </tr>\n",
       "    <tr>\n",
       "      <th>3</th>\n",
       "      <td>대리해주실 변호사님을 모십니다.</td>\n",
       "      <td>1) 항소심에 도움주실 변호사님을 원합니다.\\n2) 액수는 3,000,000원으로 ...</td>\n",
       "      <td>안녕하세요. 로시컴-네이버 지식iN 상담변호사 김기윤 입니다.\\n송대리, 소송진행,...</td>\n",
       "    </tr>\n",
       "    <tr>\n",
       "      <th>4</th>\n",
       "      <td>외국인에게 돈을 빌려주고 못 받고 잇습니다</td>\n",
       "      <td>같은회사 외국인 노동자에게\\n\\n6월 말에 소액을 빌려주고 7월 초에 돈을 좀더 크...</td>\n",
       "      <td>안녕하세요. 로시컴-네이버 지식iN 상담변호사 김기윤 입니다.\\nA. 외국인에게도 ...</td>\n",
       "    </tr>\n",
       "    <tr>\n",
       "      <th>...</th>\n",
       "      <td>...</td>\n",
       "      <td>...</td>\n",
       "      <td>...</td>\n",
       "    </tr>\n",
       "    <tr>\n",
       "      <th>1400</th>\n",
       "      <td>폭행 민사 고소</td>\n",
       "      <td>안녕하세요 \\n폭행 민사 고소에 대하여 여쭤보고 싶어서 질문드립니다.\\n이미 형사 ...</td>\n",
       "      <td>안녕하세요. 네이버법률 소속 - 네이버 지식iN 상담 변호사 조기현 입니다.\\n질문...</td>\n",
       "    </tr>\n",
       "    <tr>\n",
       "      <th>1401</th>\n",
       "      <td>이런경우도 명예회손에 해당되나요?</td>\n",
       "      <td>상가 주인이 가게를 빼달라고 해서 가게를 정리 하던 중에 보증금을 받은적이 없는데 ...</td>\n",
       "      <td>안녕하세요. 네이버법률 소속 - 네이버 지식iN 상담 변호사 조기현 입니다.\\n질문...</td>\n",
       "    </tr>\n",
       "    <tr>\n",
       "      <th>1402</th>\n",
       "      <td>이게 명예훼손 고소 꺼리 될까요?</td>\n",
       "      <td>익명의 답변자가 답변으 너무 성의없이\\n\\n인터넷에 치면 나와 라고 적었길래\\n댓글...</td>\n",
       "      <td>안녕하세요. 서울지방변호사회-네이버 지식iN 상담변호사 조기현 입니다.\\n▶ 명예훼...</td>\n",
       "    </tr>\n",
       "    <tr>\n",
       "      <th>1403</th>\n",
       "      <td>친정오빠 사망후</td>\n",
       "      <td>지금 친정아빠와 저 둘이 남아있는 상태입니다\\n다름아니오라 친정오빠가 갑자기 사망을...</td>\n",
       "      <td>안녕하세요. 로시컴-네이버 지식iN 상담변호사 김연준 입니다.\\n1순위 상속인이이 ...</td>\n",
       "    </tr>\n",
       "    <tr>\n",
       "      <th>1404</th>\n",
       "      <td>고소 관련 질문드립니다.</td>\n",
       "      <td>고소 관련 질문드립니다.\\n\\n여행중에 공공장소에서 뛰어가는 아이가 제 카메라 줄을...</td>\n",
       "      <td>안녕하세요. 로시컴-네이버 지식iN 상담변호사 김연준 입니다.\\n고소가 가능할 수 ...</td>\n",
       "    </tr>\n",
       "  </tbody>\n",
       "</table>\n",
       "<p>1405 rows × 3 columns</p>\n",
       "</div>"
      ],
      "text/plain": [
       "                           제목  \\\n",
       "0                 명도소송 문의드립니다   \n",
       "1                    소액거래? 사기   \n",
       "2                     민사소송하는법   \n",
       "3           대리해주실 변호사님을 모십니다.   \n",
       "4     외국인에게 돈을 빌려주고 못 받고 잇습니다   \n",
       "...                       ...   \n",
       "1400                 폭행 민사 고소   \n",
       "1401       이런경우도 명예회손에 해당되나요?   \n",
       "1402       이게 명예훼손 고소 꺼리 될까요?   \n",
       "1403                 친정오빠 사망후   \n",
       "1404            고소 관련 질문드립니다.   \n",
       "\n",
       "                                                     본문  \\\n",
       "0     안녕하세요\\n저희 서울집의 반지하 사람이 쓰레기와 오물 집기 이런것들을 내려가는 계...   \n",
       "1     밑에 요약 있어요\\n\\n안녕하세요. 다름이 아니고 소액거래? 사기에 관해서 문제가 ...   \n",
       "2     휴대폰 사기로 고소를 진행 했었습니다.\\n2020/2/4 날짜로 법원에서 판결문이 ...   \n",
       "3     1) 항소심에 도움주실 변호사님을 원합니다.\\n2) 액수는 3,000,000원으로 ...   \n",
       "4     같은회사 외국인 노동자에게\\n\\n6월 말에 소액을 빌려주고 7월 초에 돈을 좀더 크...   \n",
       "...                                                 ...   \n",
       "1400  안녕하세요 \\n폭행 민사 고소에 대하여 여쭤보고 싶어서 질문드립니다.\\n이미 형사 ...   \n",
       "1401  상가 주인이 가게를 빼달라고 해서 가게를 정리 하던 중에 보증금을 받은적이 없는데 ...   \n",
       "1402  익명의 답변자가 답변으 너무 성의없이\\n\\n인터넷에 치면 나와 라고 적었길래\\n댓글...   \n",
       "1403  지금 친정아빠와 저 둘이 남아있는 상태입니다\\n다름아니오라 친정오빠가 갑자기 사망을...   \n",
       "1404  고소 관련 질문드립니다.\\n\\n여행중에 공공장소에서 뛰어가는 아이가 제 카메라 줄을...   \n",
       "\n",
       "                                                     답변  \n",
       "0     안녕하세요. 로시컴-네이버 지식iN 상담변호사 김기윤 입니다.\\n임차인이 임대차 목...  \n",
       "1     안녕하세요. 로시컴-네이버 지식iN 상담변호사 김기윤 입니다.\\n사기죄는 타인을 기...  \n",
       "2     안녕하세요. 로시컴-네이버 지식iN 상담변호사 김기윤 입니다.\\n1.지금까지 상대방...  \n",
       "3     안녕하세요. 로시컴-네이버 지식iN 상담변호사 김기윤 입니다.\\n송대리, 소송진행,...  \n",
       "4     안녕하세요. 로시컴-네이버 지식iN 상담변호사 김기윤 입니다.\\nA. 외국인에게도 ...  \n",
       "...                                                 ...  \n",
       "1400  안녕하세요. 네이버법률 소속 - 네이버 지식iN 상담 변호사 조기현 입니다.\\n질문...  \n",
       "1401  안녕하세요. 네이버법률 소속 - 네이버 지식iN 상담 변호사 조기현 입니다.\\n질문...  \n",
       "1402  안녕하세요. 서울지방변호사회-네이버 지식iN 상담변호사 조기현 입니다.\\n▶ 명예훼...  \n",
       "1403  안녕하세요. 로시컴-네이버 지식iN 상담변호사 김연준 입니다.\\n1순위 상속인이이 ...  \n",
       "1404  안녕하세요. 로시컴-네이버 지식iN 상담변호사 김연준 입니다.\\n고소가 가능할 수 ...  \n",
       "\n",
       "[1405 rows x 3 columns]"
      ]
     },
     "execution_count": 23,
     "metadata": {},
     "output_type": "execute_result"
    }
   ],
   "source": [
    "data = pd.DataFrame({'제목':titles, '본문':bodys, '답변':replies})\n",
    "print(data.shape)\n",
    "data"
   ]
  },
  {
   "cell_type": "code",
   "execution_count": 24,
   "id": "50d19ce2",
   "metadata": {},
   "outputs": [],
   "source": [
    "data.drop_duplicates(subset=['본문'], inplace=True)\n",
    "data.to_csv('Legal_QnA(41~59).csv', index=False, encoding='utf-8')"
   ]
  },
  {
   "cell_type": "code",
   "execution_count": 25,
   "id": "15925854",
   "metadata": {},
   "outputs": [],
   "source": [
    "data_1 = pd.read_csv('./data/Naver_QnA(~41).csv', encoding='utf-8')\n",
    "data_2 = pd.read_csv('./data/Naver_QnA(41~59).csv', encoding='utf-8')\n",
    "data_3 = pd.read_csv('./data/Naver_QnA(59~).csv', encoding='utf-8')"
   ]
  },
  {
   "cell_type": "code",
   "execution_count": 30,
   "id": "4362b813",
   "metadata": {},
   "outputs": [
    {
     "data": {
      "text/html": [
       "<div>\n",
       "<style scoped>\n",
       "    .dataframe tbody tr th:only-of-type {\n",
       "        vertical-align: middle;\n",
       "    }\n",
       "\n",
       "    .dataframe tbody tr th {\n",
       "        vertical-align: top;\n",
       "    }\n",
       "\n",
       "    .dataframe thead th {\n",
       "        text-align: right;\n",
       "    }\n",
       "</style>\n",
       "<table border=\"1\" class=\"dataframe\">\n",
       "  <thead>\n",
       "    <tr style=\"text-align: right;\">\n",
       "      <th></th>\n",
       "      <th>제목</th>\n",
       "      <th>본문</th>\n",
       "      <th>답변</th>\n",
       "    </tr>\n",
       "  </thead>\n",
       "  <tbody>\n",
       "    <tr>\n",
       "      <th>0</th>\n",
       "      <td>민사 관련) 차량은 제 명의지만 아버지가 사용, 집은 어머니 명의</td>\n",
       "      <td>안녕하세요...\\n정말 어려운 상황에서 너무나도 힘들어서 질문을 드립니다. 부디 자...</td>\n",
       "      <td>안녕하세요. 로시컴-네이버 지식iN 상담변호사 서동민 입니다.\\n차량의 경우 현재 ...</td>\n",
       "    </tr>\n",
       "    <tr>\n",
       "      <th>1</th>\n",
       "      <td>불기소이유통지 10년뒤 부당이득금 기소</td>\n",
       "      <td>10년전에 대포통장이로 인해 피해을 봐서 재판결과가 불기소이유통지을 받았거든요\\n근...</td>\n",
       "      <td>안녕하세요. 로시컴-네이버 지식iN 상담변호사 서동민 입니다.\\n소장 내용에 대한 ...</td>\n",
       "    </tr>\n",
       "    <tr>\n",
       "      <th>2</th>\n",
       "      <td>공증받은 차용증, 민사 청구이의소 관련해서 질문이 있습니다</td>\n",
       "      <td>연고도 다르고, 일면식도 없는 5살위의 형을, 일을 통해 알게 됐습니다.\\n제가 주...</td>\n",
       "      <td>안녕하세요. 로시컴-네이버 지식iN 상담변호사 서동민 입니다.\\n별도의 구체적 상담...</td>\n",
       "    </tr>\n",
       "    <tr>\n",
       "      <th>3</th>\n",
       "      <td>청구이의소송? 채무부존재확인소송 가능할까요?</td>\n",
       "      <td>1) 2010.06.15  이행권고결정(판결)\\n2) 2011.05.23  채권압류...</td>\n",
       "      <td>안녕하세요. 로시컴-네이버 지식iN 상담변호사 서동민 입니다.\\n별도의 구체적 상담...</td>\n",
       "    </tr>\n",
       "    <tr>\n",
       "      <th>4</th>\n",
       "      <td>사기를 당했는데 피의자가 구치소에 수감이 됬습니다 어떻게 받아내야 하나요ㅠ</td>\n",
       "      <td>4천만원정도의 피해가 있고 고소를 했는데 인지사건으로 넘어가서 검찰에서 수사중이었습...</td>\n",
       "      <td>안녕하세요. 로시컴-네이버 지식iN 상담변호사 서동민 입니다.\\n가해자가 위 사건으...</td>\n",
       "    </tr>\n",
       "    <tr>\n",
       "      <th>...</th>\n",
       "      <td>...</td>\n",
       "      <td>...</td>\n",
       "      <td>...</td>\n",
       "    </tr>\n",
       "    <tr>\n",
       "      <th>1896</th>\n",
       "      <td>상간녀소송 질문이요!</td>\n",
       "      <td>재혼한지 5년정도되었어요\\n근데 지금 남편이 전부인집에 들락날락 거리는것같아요\\n전...</td>\n",
       "      <td>안녕하세요. 서울지방변호사회-네이버 지식iN 상담 변호사 이도형 입니다.\\n간통죄가...</td>\n",
       "    </tr>\n",
       "    <tr>\n",
       "      <th>1897</th>\n",
       "      <td>인테리어 시공사 무단침입, 무단촬영 법적조치</td>\n",
       "      <td>인테리어 시공사가 공사완료된 후 집주인 동의없이 무단으로 지인들과 집에 들어가서 사...</td>\n",
       "      <td>안녕하세요. 서울지방변호사회-네이버 지식iN 상담 변호사 이도형 입니다.인테리어 시...</td>\n",
       "    </tr>\n",
       "    <tr>\n",
       "      <th>1898</th>\n",
       "      <td>협박죄로 민사소송을 하려하는데 공소시효가 몇 년인가요?</td>\n",
       "      <td>상대방이 협박, 모욕으로 약식명령 벌금 100만원이 나왔습니다.\\n\\n민사소송을 제...</td>\n",
       "      <td>안녕하세요. 서울지방변호사회-네이버 지식iN 상담 변호사 이도형 입니다.\\n상대방의...</td>\n",
       "    </tr>\n",
       "    <tr>\n",
       "      <th>1899</th>\n",
       "      <td>이런 경우 민사소송으로 해결가능한가요?</td>\n",
       "      <td>중고거래를 했는데 판매자 분이 상자에 책을 담으면서 그 어떤 완충재도 없이 책만 달...</td>\n",
       "      <td>안녕하세요. 서울지방변호사회-네이버 지식iN 상담 변호사 이도형 입니다.\\n배송 중...</td>\n",
       "    </tr>\n",
       "    <tr>\n",
       "      <th>1900</th>\n",
       "      <td>대리수술 고소</td>\n",
       "      <td>작년 8월에\\n\\n인천 21세기 병원에서 허리수술을 받았습니다.\\n\\n수술이 잘못되...</td>\n",
       "      <td>안녕하세요. 서울지방변호사회-네이버 지식iN 상담 변호사 이도형 입니다.\\n의사가 ...</td>\n",
       "    </tr>\n",
       "  </tbody>\n",
       "</table>\n",
       "<p>18516 rows × 3 columns</p>\n",
       "</div>"
      ],
      "text/plain": [
       "                                             제목  \\\n",
       "0          민사 관련) 차량은 제 명의지만 아버지가 사용, 집은 어머니 명의   \n",
       "1                         불기소이유통지 10년뒤 부당이득금 기소   \n",
       "2              공증받은 차용증, 민사 청구이의소 관련해서 질문이 있습니다   \n",
       "3                      청구이의소송? 채무부존재확인소송 가능할까요?   \n",
       "4     사기를 당했는데 피의자가 구치소에 수감이 됬습니다 어떻게 받아내야 하나요ㅠ   \n",
       "...                                         ...   \n",
       "1896                                상간녀소송 질문이요!   \n",
       "1897                   인테리어 시공사 무단침입, 무단촬영 법적조치   \n",
       "1898             협박죄로 민사소송을 하려하는데 공소시효가 몇 년인가요?   \n",
       "1899                      이런 경우 민사소송으로 해결가능한가요?   \n",
       "1900                                    대리수술 고소   \n",
       "\n",
       "                                                     본문  \\\n",
       "0     안녕하세요...\\n정말 어려운 상황에서 너무나도 힘들어서 질문을 드립니다. 부디 자...   \n",
       "1     10년전에 대포통장이로 인해 피해을 봐서 재판결과가 불기소이유통지을 받았거든요\\n근...   \n",
       "2     연고도 다르고, 일면식도 없는 5살위의 형을, 일을 통해 알게 됐습니다.\\n제가 주...   \n",
       "3     1) 2010.06.15  이행권고결정(판결)\\n2) 2011.05.23  채권압류...   \n",
       "4     4천만원정도의 피해가 있고 고소를 했는데 인지사건으로 넘어가서 검찰에서 수사중이었습...   \n",
       "...                                                 ...   \n",
       "1896  재혼한지 5년정도되었어요\\n근데 지금 남편이 전부인집에 들락날락 거리는것같아요\\n전...   \n",
       "1897  인테리어 시공사가 공사완료된 후 집주인 동의없이 무단으로 지인들과 집에 들어가서 사...   \n",
       "1898  상대방이 협박, 모욕으로 약식명령 벌금 100만원이 나왔습니다.\\n\\n민사소송을 제...   \n",
       "1899  중고거래를 했는데 판매자 분이 상자에 책을 담으면서 그 어떤 완충재도 없이 책만 달...   \n",
       "1900  작년 8월에\\n\\n인천 21세기 병원에서 허리수술을 받았습니다.\\n\\n수술이 잘못되...   \n",
       "\n",
       "                                                     답변  \n",
       "0     안녕하세요. 로시컴-네이버 지식iN 상담변호사 서동민 입니다.\\n차량의 경우 현재 ...  \n",
       "1     안녕하세요. 로시컴-네이버 지식iN 상담변호사 서동민 입니다.\\n소장 내용에 대한 ...  \n",
       "2     안녕하세요. 로시컴-네이버 지식iN 상담변호사 서동민 입니다.\\n별도의 구체적 상담...  \n",
       "3     안녕하세요. 로시컴-네이버 지식iN 상담변호사 서동민 입니다.\\n별도의 구체적 상담...  \n",
       "4     안녕하세요. 로시컴-네이버 지식iN 상담변호사 서동민 입니다.\\n가해자가 위 사건으...  \n",
       "...                                                 ...  \n",
       "1896  안녕하세요. 서울지방변호사회-네이버 지식iN 상담 변호사 이도형 입니다.\\n간통죄가...  \n",
       "1897  안녕하세요. 서울지방변호사회-네이버 지식iN 상담 변호사 이도형 입니다.인테리어 시...  \n",
       "1898  안녕하세요. 서울지방변호사회-네이버 지식iN 상담 변호사 이도형 입니다.\\n상대방의...  \n",
       "1899  안녕하세요. 서울지방변호사회-네이버 지식iN 상담 변호사 이도형 입니다.\\n배송 중...  \n",
       "1900  안녕하세요. 서울지방변호사회-네이버 지식iN 상담 변호사 이도형 입니다.\\n의사가 ...  \n",
       "\n",
       "[18516 rows x 3 columns]"
      ]
     },
     "execution_count": 30,
     "metadata": {},
     "output_type": "execute_result"
    }
   ],
   "source": [
    "f_data = pd.concat([data_1, data_2, data_3])\n",
    "f_data"
   ]
  },
  {
   "cell_type": "code",
   "execution_count": 31,
   "id": "e1969294",
   "metadata": {},
   "outputs": [
    {
     "data": {
      "text/plain": [
       "제목    0\n",
       "본문    0\n",
       "답변    0\n",
       "dtype: int64"
      ]
     },
     "execution_count": 31,
     "metadata": {},
     "output_type": "execute_result"
    }
   ],
   "source": [
    "f_data.isna().sum()"
   ]
  },
  {
   "cell_type": "code",
   "execution_count": null,
   "id": "54575717",
   "metadata": {},
   "outputs": [],
   "source": []
  }
 ],
 "metadata": {
  "kernelspec": {
   "display_name": "Python 3 (ipykernel)",
   "language": "python",
   "name": "python3"
  },
  "language_info": {
   "codemirror_mode": {
    "name": "ipython",
    "version": 3
   },
   "file_extension": ".py",
   "mimetype": "text/x-python",
   "name": "python",
   "nbconvert_exporter": "python",
   "pygments_lexer": "ipython3",
   "version": "3.9.12"
  }
 },
 "nbformat": 4,
 "nbformat_minor": 5
}
